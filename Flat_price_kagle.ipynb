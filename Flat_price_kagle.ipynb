{
  "nbformat": 4,
  "nbformat_minor": 0,
  "metadata": {
    "colab": {
      "provenance": []
    },
    "kernelspec": {
      "name": "python3",
      "display_name": "Python 3"
    },
    "language_info": {
      "name": "python"
    }
  },
  "cells": [
    {
      "cell_type": "code",
      "execution_count": 56,
      "metadata": {
        "id": "chmonVu1Qp7X",
        "colab": {
          "base_uri": "https://localhost:8080/"
        },
        "outputId": "6b293602-0118-420d-e327-de7e50a271f9"
      },
      "outputs": [
        {
          "output_type": "stream",
          "name": "stdout",
          "text": [
            "<bound method NDFrame.head of         Id  MSSubClass MSZoning  LotFrontage  LotArea Street Alley LotShape  \\\n",
            "0        1          60       RL         65.0     8450   Pave   NaN      Reg   \n",
            "1        2          20       RL         80.0     9600   Pave   NaN      Reg   \n",
            "2        3          60       RL         68.0    11250   Pave   NaN      IR1   \n",
            "3        4          70       RL         60.0     9550   Pave   NaN      IR1   \n",
            "4        5          60       RL         84.0    14260   Pave   NaN      IR1   \n",
            "...    ...         ...      ...          ...      ...    ...   ...      ...   \n",
            "1455  1456          60       RL         62.0     7917   Pave   NaN      Reg   \n",
            "1456  1457          20       RL         85.0    13175   Pave   NaN      Reg   \n",
            "1457  1458          70       RL         66.0     9042   Pave   NaN      Reg   \n",
            "1458  1459          20       RL         68.0     9717   Pave   NaN      Reg   \n",
            "1459  1460          20       RL         75.0     9937   Pave   NaN      Reg   \n",
            "\n",
            "     LandContour Utilities  ... PoolArea PoolQC  Fence MiscFeature MiscVal  \\\n",
            "0            Lvl    AllPub  ...        0    NaN    NaN         NaN       0   \n",
            "1            Lvl    AllPub  ...        0    NaN    NaN         NaN       0   \n",
            "2            Lvl    AllPub  ...        0    NaN    NaN         NaN       0   \n",
            "3            Lvl    AllPub  ...        0    NaN    NaN         NaN       0   \n",
            "4            Lvl    AllPub  ...        0    NaN    NaN         NaN       0   \n",
            "...          ...       ...  ...      ...    ...    ...         ...     ...   \n",
            "1455         Lvl    AllPub  ...        0    NaN    NaN         NaN       0   \n",
            "1456         Lvl    AllPub  ...        0    NaN  MnPrv         NaN       0   \n",
            "1457         Lvl    AllPub  ...        0    NaN  GdPrv        Shed    2500   \n",
            "1458         Lvl    AllPub  ...        0    NaN    NaN         NaN       0   \n",
            "1459         Lvl    AllPub  ...        0    NaN    NaN         NaN       0   \n",
            "\n",
            "     MoSold YrSold  SaleType  SaleCondition  SalePrice  \n",
            "0         2   2008        WD         Normal     208500  \n",
            "1         5   2007        WD         Normal     181500  \n",
            "2         9   2008        WD         Normal     223500  \n",
            "3         2   2006        WD        Abnorml     140000  \n",
            "4        12   2008        WD         Normal     250000  \n",
            "...     ...    ...       ...            ...        ...  \n",
            "1455      8   2007        WD         Normal     175000  \n",
            "1456      2   2010        WD         Normal     210000  \n",
            "1457      5   2010        WD         Normal     266500  \n",
            "1458      4   2010        WD         Normal     142125  \n",
            "1459      6   2008        WD         Normal     147500  \n",
            "\n",
            "[1460 rows x 81 columns]>\n"
          ]
        }
      ],
      "source": [
        "import pandas as pd\n",
        "import numpy as np\n",
        "from sklearn.model_selection import train_test_split\n",
        "from sklearn.preprocessing import StandardScaler, LabelEncoder\n",
        "from sklearn.compose import ColumnTransformer\n",
        "from sklearn.preprocessing import StandardScaler, OneHotEncoder\n",
        "import tensorflow as tf\n",
        "\n",
        "# Загрузка данных\n",
        "train_data = pd.read_csv('/content/drive/MyDrive/train.csv')\n",
        "test_data = pd.read_csv('/content/drive/MyDrive/test.csv')\n",
        "\n",
        "print(train_data.head)"
      ]
    },
    {
      "cell_type": "code",
      "source": [
        "numerical_cols = train_data.select_dtypes(include=['int64', 'float64']).columns.tolist()\n",
        "y = train_data['SalePrice'].values\n",
        "numerical_cols.remove('SalePrice')  # Убираем целевую переменную\n",
        "\n",
        "# Категориальные колонки\n",
        "categorical_cols = train_data.select_dtypes(include=['object']).columns.tolist()\n",
        "\n",
        "print(\"Числовые колонки:\", numerical_cols)\n",
        "print(\"Категориальные колонки:\", categorical_cols)"
      ],
      "metadata": {
        "colab": {
          "base_uri": "https://localhost:8080/"
        },
        "id": "wKvyMZGe_F9L",
        "outputId": "aeff3d71-67a4-4449-8142-9206621bd8ad"
      },
      "execution_count": 57,
      "outputs": [
        {
          "output_type": "stream",
          "name": "stdout",
          "text": [
            "Числовые колонки: ['Id', 'MSSubClass', 'LotFrontage', 'LotArea', 'OverallQual', 'OverallCond', 'YearBuilt', 'YearRemodAdd', 'MasVnrArea', 'BsmtFinSF1', 'BsmtFinSF2', 'BsmtUnfSF', 'TotalBsmtSF', '1stFlrSF', '2ndFlrSF', 'LowQualFinSF', 'GrLivArea', 'BsmtFullBath', 'BsmtHalfBath', 'FullBath', 'HalfBath', 'BedroomAbvGr', 'KitchenAbvGr', 'TotRmsAbvGrd', 'Fireplaces', 'GarageYrBlt', 'GarageCars', 'GarageArea', 'WoodDeckSF', 'OpenPorchSF', 'EnclosedPorch', '3SsnPorch', 'ScreenPorch', 'PoolArea', 'MiscVal', 'MoSold', 'YrSold']\n",
            "Категориальные колонки: ['MSZoning', 'Street', 'Alley', 'LotShape', 'LandContour', 'Utilities', 'LotConfig', 'LandSlope', 'Neighborhood', 'Condition1', 'Condition2', 'BldgType', 'HouseStyle', 'RoofStyle', 'RoofMatl', 'Exterior1st', 'Exterior2nd', 'MasVnrType', 'ExterQual', 'ExterCond', 'Foundation', 'BsmtQual', 'BsmtCond', 'BsmtExposure', 'BsmtFinType1', 'BsmtFinType2', 'Heating', 'HeatingQC', 'CentralAir', 'Electrical', 'KitchenQual', 'Functional', 'FireplaceQu', 'GarageType', 'GarageFinish', 'GarageQual', 'GarageCond', 'PavedDrive', 'PoolQC', 'Fence', 'MiscFeature', 'SaleType', 'SaleCondition']\n"
          ]
        }
      ]
    },
    {
      "cell_type": "code",
      "source": [
        "# Заполнение пропущенных значений в числовых колонках медианой\n",
        "train_data[numerical_cols] = train_data[numerical_cols].fillna(train_data[numerical_cols].median())\n",
        "test_data[numerical_cols] = test_data[numerical_cols].fillna(test_data[numerical_cols].median())\n",
        "\n",
        "# Заполнение пропущенных значений в категориальных колонках модой\n",
        "train_data[categorical_cols] = train_data[categorical_cols].fillna(train_data[categorical_cols].mode().iloc[0])\n",
        "test_data[categorical_cols] = test_data[categorical_cols].fillna(test_data[categorical_cols].mode().iloc[0])"
      ],
      "metadata": {
        "id": "OqsFzSog_Xa6"
      },
      "execution_count": 58,
      "outputs": []
    },
    {
      "cell_type": "code",
      "source": [
        "# One-Hot Encoding для категориальных переменных\n",
        "from sklearn.preprocessing import OneHotEncoder, StandardScaler\n",
        "\n",
        "ohe = OneHotEncoder(sparse_output=False, handle_unknown='ignore')\n",
        "scaler = StandardScaler()\n",
        "\n",
        "\n",
        "X_train_numeric = scaler.fit_transform(train_data[numerical_cols])\n",
        "X_test_numeric = scaler.transform(test_data[numerical_cols])\n",
        "\n",
        "X_train_categorical = ohe.fit_transform(train_data[categorical_cols])\n",
        "X_test_categorical = ohe.transform(test_data[categorical_cols])\n",
        "\n",
        "# Соединение обработанных данных\n",
        "train_data = pd.DataFrame(\n",
        "    np.hstack([X_train_numeric, X_train_categorical]),\n",
        "    columns=list(numerical_cols) + list(ohe.get_feature_names_out(categorical_cols))\n",
        ")\n",
        "\n",
        "test_data = pd.DataFrame(\n",
        "    np.hstack([X_test_numeric, X_test_categorical]),\n",
        "    columns=list(numerical_cols) + list(ohe.get_feature_names_out(categorical_cols))\n",
        ")\n",
        "# Выравнивание колонок в train и test данных\n",
        "train_data, test_data = train_data.align(test_data, join='left', axis=1, fill_value=0)"
      ],
      "metadata": {
        "id": "9SDS2w-G_hQD"
      },
      "execution_count": 59,
      "outputs": []
    },
    {
      "cell_type": "code",
      "source": [
        "# Признаки и целевая переменная\n",
        "X = train_data.drop(columns=['Id'])\n",
        "\n",
        "\n",
        "# Разделение на тренировочный и валидационный наборы\n",
        "from sklearn.model_selection import train_test_split\n",
        "X_train, X_val, y_train, y_val = train_test_split(X, y, test_size=0.2, random_state=42)"
      ],
      "metadata": {
        "id": "GADjZp6n_t3Q"
      },
      "execution_count": 60,
      "outputs": []
    },
    {
      "cell_type": "code",
      "source": [
        "print(y)\n",
        "print(X_train.shape, test_data.shape)\n"
      ],
      "metadata": {
        "colab": {
          "base_uri": "https://localhost:8080/"
        },
        "id": "AcBeHLrsBXMr",
        "outputId": "fc1e696b-2154-4896-87fe-0ad1e3858a6c"
      },
      "execution_count": 79,
      "outputs": [
        {
          "output_type": "stream",
          "name": "stdout",
          "text": [
            "[208500 181500 223500 ... 266500 142125 147500]\n",
            "(1168, 287) (1459, 288)\n"
          ]
        }
      ]
    },
    {
      "cell_type": "code",
      "source": [
        "import tensorflow as tf\n",
        "from tensorflow.keras import layers, models\n",
        "from tensorflow.keras.layers import Dense, Dropout\n",
        "\n",
        "# Создание модели\n",
        "model = models.Sequential([\n",
        "    layers.Dense(128, activation='relu', input_shape=(X_train.shape[1],)),\n",
        "    layers.Dropout(0.4),\n",
        "    layers.Dense(64, activation='relu'),\n",
        "    layers.Dropout(0.4),\n",
        "    layers.Dense(32, activation='relu'),\n",
        "    layers.Dropout(0.4),\n",
        "    layers.Dense(1)  # Выходной слой для регрессии\n",
        "])\n",
        "\n",
        "# Компиляция модели\n",
        "model.compile(optimizer='adam', loss='mse', metrics=['mae'])\n",
        "\n",
        "# Просмотр архитектуры модели\n",
        "model.summary()"
      ],
      "metadata": {
        "colab": {
          "base_uri": "https://localhost:8080/",
          "height": 408
        },
        "id": "tjkQJnsO_5de",
        "outputId": "10a3c058-907a-4ea2-d673-600b994de75d"
      },
      "execution_count": 67,
      "outputs": [
        {
          "output_type": "stream",
          "name": "stderr",
          "text": [
            "/usr/local/lib/python3.11/dist-packages/keras/src/layers/core/dense.py:87: UserWarning: Do not pass an `input_shape`/`input_dim` argument to a layer. When using Sequential models, prefer using an `Input(shape)` object as the first layer in the model instead.\n",
            "  super().__init__(activity_regularizer=activity_regularizer, **kwargs)\n"
          ]
        },
        {
          "output_type": "display_data",
          "data": {
            "text/plain": [
              "\u001b[1mModel: \"sequential_3\"\u001b[0m\n"
            ],
            "text/html": [
              "<pre style=\"white-space:pre;overflow-x:auto;line-height:normal;font-family:Menlo,'DejaVu Sans Mono',consolas,'Courier New',monospace\"><span style=\"font-weight: bold\">Model: \"sequential_3\"</span>\n",
              "</pre>\n"
            ]
          },
          "metadata": {}
        },
        {
          "output_type": "display_data",
          "data": {
            "text/plain": [
              "┏━━━━━━━━━━━━━━━━━━━━━━━━━━━━━━━━━━━━━━┳━━━━━━━━━━━━━━━━━━━━━━━━━━━━━┳━━━━━━━━━━━━━━━━━┓\n",
              "┃\u001b[1m \u001b[0m\u001b[1mLayer (type)                        \u001b[0m\u001b[1m \u001b[0m┃\u001b[1m \u001b[0m\u001b[1mOutput Shape               \u001b[0m\u001b[1m \u001b[0m┃\u001b[1m \u001b[0m\u001b[1m        Param #\u001b[0m\u001b[1m \u001b[0m┃\n",
              "┡━━━━━━━━━━━━━━━━━━━━━━━━━━━━━━━━━━━━━━╇━━━━━━━━━━━━━━━━━━━━━━━━━━━━━╇━━━━━━━━━━━━━━━━━┩\n",
              "│ dense_11 (\u001b[38;5;33mDense\u001b[0m)                     │ (\u001b[38;5;45mNone\u001b[0m, \u001b[38;5;34m128\u001b[0m)                 │          \u001b[38;5;34m36,864\u001b[0m │\n",
              "├──────────────────────────────────────┼─────────────────────────────┼─────────────────┤\n",
              "│ dropout_1 (\u001b[38;5;33mDropout\u001b[0m)                  │ (\u001b[38;5;45mNone\u001b[0m, \u001b[38;5;34m128\u001b[0m)                 │               \u001b[38;5;34m0\u001b[0m │\n",
              "├──────────────────────────────────────┼─────────────────────────────┼─────────────────┤\n",
              "│ dense_12 (\u001b[38;5;33mDense\u001b[0m)                     │ (\u001b[38;5;45mNone\u001b[0m, \u001b[38;5;34m64\u001b[0m)                  │           \u001b[38;5;34m8,256\u001b[0m │\n",
              "├──────────────────────────────────────┼─────────────────────────────┼─────────────────┤\n",
              "│ dropout_2 (\u001b[38;5;33mDropout\u001b[0m)                  │ (\u001b[38;5;45mNone\u001b[0m, \u001b[38;5;34m64\u001b[0m)                  │               \u001b[38;5;34m0\u001b[0m │\n",
              "├──────────────────────────────────────┼─────────────────────────────┼─────────────────┤\n",
              "│ dense_13 (\u001b[38;5;33mDense\u001b[0m)                     │ (\u001b[38;5;45mNone\u001b[0m, \u001b[38;5;34m32\u001b[0m)                  │           \u001b[38;5;34m2,080\u001b[0m │\n",
              "├──────────────────────────────────────┼─────────────────────────────┼─────────────────┤\n",
              "│ dropout_3 (\u001b[38;5;33mDropout\u001b[0m)                  │ (\u001b[38;5;45mNone\u001b[0m, \u001b[38;5;34m32\u001b[0m)                  │               \u001b[38;5;34m0\u001b[0m │\n",
              "├──────────────────────────────────────┼─────────────────────────────┼─────────────────┤\n",
              "│ dense_14 (\u001b[38;5;33mDense\u001b[0m)                     │ (\u001b[38;5;45mNone\u001b[0m, \u001b[38;5;34m1\u001b[0m)                   │              \u001b[38;5;34m33\u001b[0m │\n",
              "└──────────────────────────────────────┴─────────────────────────────┴─────────────────┘\n"
            ],
            "text/html": [
              "<pre style=\"white-space:pre;overflow-x:auto;line-height:normal;font-family:Menlo,'DejaVu Sans Mono',consolas,'Courier New',monospace\">┏━━━━━━━━━━━━━━━━━━━━━━━━━━━━━━━━━━━━━━┳━━━━━━━━━━━━━━━━━━━━━━━━━━━━━┳━━━━━━━━━━━━━━━━━┓\n",
              "┃<span style=\"font-weight: bold\"> Layer (type)                         </span>┃<span style=\"font-weight: bold\"> Output Shape                </span>┃<span style=\"font-weight: bold\">         Param # </span>┃\n",
              "┡━━━━━━━━━━━━━━━━━━━━━━━━━━━━━━━━━━━━━━╇━━━━━━━━━━━━━━━━━━━━━━━━━━━━━╇━━━━━━━━━━━━━━━━━┩\n",
              "│ dense_11 (<span style=\"color: #0087ff; text-decoration-color: #0087ff\">Dense</span>)                     │ (<span style=\"color: #00d7ff; text-decoration-color: #00d7ff\">None</span>, <span style=\"color: #00af00; text-decoration-color: #00af00\">128</span>)                 │          <span style=\"color: #00af00; text-decoration-color: #00af00\">36,864</span> │\n",
              "├──────────────────────────────────────┼─────────────────────────────┼─────────────────┤\n",
              "│ dropout_1 (<span style=\"color: #0087ff; text-decoration-color: #0087ff\">Dropout</span>)                  │ (<span style=\"color: #00d7ff; text-decoration-color: #00d7ff\">None</span>, <span style=\"color: #00af00; text-decoration-color: #00af00\">128</span>)                 │               <span style=\"color: #00af00; text-decoration-color: #00af00\">0</span> │\n",
              "├──────────────────────────────────────┼─────────────────────────────┼─────────────────┤\n",
              "│ dense_12 (<span style=\"color: #0087ff; text-decoration-color: #0087ff\">Dense</span>)                     │ (<span style=\"color: #00d7ff; text-decoration-color: #00d7ff\">None</span>, <span style=\"color: #00af00; text-decoration-color: #00af00\">64</span>)                  │           <span style=\"color: #00af00; text-decoration-color: #00af00\">8,256</span> │\n",
              "├──────────────────────────────────────┼─────────────────────────────┼─────────────────┤\n",
              "│ dropout_2 (<span style=\"color: #0087ff; text-decoration-color: #0087ff\">Dropout</span>)                  │ (<span style=\"color: #00d7ff; text-decoration-color: #00d7ff\">None</span>, <span style=\"color: #00af00; text-decoration-color: #00af00\">64</span>)                  │               <span style=\"color: #00af00; text-decoration-color: #00af00\">0</span> │\n",
              "├──────────────────────────────────────┼─────────────────────────────┼─────────────────┤\n",
              "│ dense_13 (<span style=\"color: #0087ff; text-decoration-color: #0087ff\">Dense</span>)                     │ (<span style=\"color: #00d7ff; text-decoration-color: #00d7ff\">None</span>, <span style=\"color: #00af00; text-decoration-color: #00af00\">32</span>)                  │           <span style=\"color: #00af00; text-decoration-color: #00af00\">2,080</span> │\n",
              "├──────────────────────────────────────┼─────────────────────────────┼─────────────────┤\n",
              "│ dropout_3 (<span style=\"color: #0087ff; text-decoration-color: #0087ff\">Dropout</span>)                  │ (<span style=\"color: #00d7ff; text-decoration-color: #00d7ff\">None</span>, <span style=\"color: #00af00; text-decoration-color: #00af00\">32</span>)                  │               <span style=\"color: #00af00; text-decoration-color: #00af00\">0</span> │\n",
              "├──────────────────────────────────────┼─────────────────────────────┼─────────────────┤\n",
              "│ dense_14 (<span style=\"color: #0087ff; text-decoration-color: #0087ff\">Dense</span>)                     │ (<span style=\"color: #00d7ff; text-decoration-color: #00d7ff\">None</span>, <span style=\"color: #00af00; text-decoration-color: #00af00\">1</span>)                   │              <span style=\"color: #00af00; text-decoration-color: #00af00\">33</span> │\n",
              "└──────────────────────────────────────┴─────────────────────────────┴─────────────────┘\n",
              "</pre>\n"
            ]
          },
          "metadata": {}
        },
        {
          "output_type": "display_data",
          "data": {
            "text/plain": [
              "\u001b[1m Total params: \u001b[0m\u001b[38;5;34m47,233\u001b[0m (184.50 KB)\n"
            ],
            "text/html": [
              "<pre style=\"white-space:pre;overflow-x:auto;line-height:normal;font-family:Menlo,'DejaVu Sans Mono',consolas,'Courier New',monospace\"><span style=\"font-weight: bold\"> Total params: </span><span style=\"color: #00af00; text-decoration-color: #00af00\">47,233</span> (184.50 KB)\n",
              "</pre>\n"
            ]
          },
          "metadata": {}
        },
        {
          "output_type": "display_data",
          "data": {
            "text/plain": [
              "\u001b[1m Trainable params: \u001b[0m\u001b[38;5;34m47,233\u001b[0m (184.50 KB)\n"
            ],
            "text/html": [
              "<pre style=\"white-space:pre;overflow-x:auto;line-height:normal;font-family:Menlo,'DejaVu Sans Mono',consolas,'Courier New',monospace\"><span style=\"font-weight: bold\"> Trainable params: </span><span style=\"color: #00af00; text-decoration-color: #00af00\">47,233</span> (184.50 KB)\n",
              "</pre>\n"
            ]
          },
          "metadata": {}
        },
        {
          "output_type": "display_data",
          "data": {
            "text/plain": [
              "\u001b[1m Non-trainable params: \u001b[0m\u001b[38;5;34m0\u001b[0m (0.00 B)\n"
            ],
            "text/html": [
              "<pre style=\"white-space:pre;overflow-x:auto;line-height:normal;font-family:Menlo,'DejaVu Sans Mono',consolas,'Courier New',monospace\"><span style=\"font-weight: bold\"> Non-trainable params: </span><span style=\"color: #00af00; text-decoration-color: #00af00\">0</span> (0.00 B)\n",
              "</pre>\n"
            ]
          },
          "metadata": {}
        }
      ]
    },
    {
      "cell_type": "code",
      "source": [
        "# Обучение модели\n",
        "history = model.fit(\n",
        "    X_train, y_train,\n",
        "    validation_data=(X_val, y_val),\n",
        "    epochs=100,\n",
        "    batch_size=32,\n",
        "    verbose=1\n",
        ")"
      ],
      "metadata": {
        "colab": {
          "base_uri": "https://localhost:8080/"
        },
        "id": "SPmDjTgMAIoN",
        "outputId": "96945bb8-6ee8-4173-c750-6cf8e9d2fe58"
      },
      "execution_count": 76,
      "outputs": [
        {
          "output_type": "stream",
          "name": "stdout",
          "text": [
            "Epoch 1/100\n",
            "\u001b[1m37/37\u001b[0m \u001b[32m━━━━━━━━━━━━━━━━━━━━\u001b[0m\u001b[37m\u001b[0m \u001b[1m0s\u001b[0m 5ms/step - loss: 2112519552.0000 - mae: 33273.3164 - val_loss: 1056361984.0000 - val_mae: 20227.4336\n",
            "Epoch 2/100\n",
            "\u001b[1m37/37\u001b[0m \u001b[32m━━━━━━━━━━━━━━━━━━━━\u001b[0m\u001b[37m\u001b[0m \u001b[1m0s\u001b[0m 3ms/step - loss: 2338410752.0000 - mae: 35650.1875 - val_loss: 991128192.0000 - val_mae: 19622.7520\n",
            "Epoch 3/100\n",
            "\u001b[1m37/37\u001b[0m \u001b[32m━━━━━━━━━━━━━━━━━━━━\u001b[0m\u001b[37m\u001b[0m \u001b[1m0s\u001b[0m 3ms/step - loss: 2092192000.0000 - mae: 33921.3828 - val_loss: 1036176256.0000 - val_mae: 20366.4395\n",
            "Epoch 4/100\n",
            "\u001b[1m37/37\u001b[0m \u001b[32m━━━━━━━━━━━━━━━━━━━━\u001b[0m\u001b[37m\u001b[0m \u001b[1m0s\u001b[0m 4ms/step - loss: 2219559168.0000 - mae: 34961.9727 - val_loss: 1002685120.0000 - val_mae: 19923.9434\n",
            "Epoch 5/100\n",
            "\u001b[1m37/37\u001b[0m \u001b[32m━━━━━━━━━━━━━━━━━━━━\u001b[0m\u001b[37m\u001b[0m \u001b[1m0s\u001b[0m 4ms/step - loss: 2636461312.0000 - mae: 36527.1328 - val_loss: 1159059200.0000 - val_mae: 22048.9668\n",
            "Epoch 6/100\n",
            "\u001b[1m37/37\u001b[0m \u001b[32m━━━━━━━━━━━━━━━━━━━━\u001b[0m\u001b[37m\u001b[0m \u001b[1m0s\u001b[0m 4ms/step - loss: 2944238848.0000 - mae: 37315.7891 - val_loss: 1118182016.0000 - val_mae: 20690.1836\n",
            "Epoch 7/100\n",
            "\u001b[1m37/37\u001b[0m \u001b[32m━━━━━━━━━━━━━━━━━━━━\u001b[0m\u001b[37m\u001b[0m \u001b[1m0s\u001b[0m 3ms/step - loss: 2236699136.0000 - mae: 34252.2227 - val_loss: 1085587584.0000 - val_mae: 20480.0410\n",
            "Epoch 8/100\n",
            "\u001b[1m37/37\u001b[0m \u001b[32m━━━━━━━━━━━━━━━━━━━━\u001b[0m\u001b[37m\u001b[0m \u001b[1m0s\u001b[0m 3ms/step - loss: 2304208640.0000 - mae: 36021.8672 - val_loss: 1017025664.0000 - val_mae: 19623.1934\n",
            "Epoch 9/100\n",
            "\u001b[1m37/37\u001b[0m \u001b[32m━━━━━━━━━━━━━━━━━━━━\u001b[0m\u001b[37m\u001b[0m \u001b[1m0s\u001b[0m 4ms/step - loss: 2298558208.0000 - mae: 35122.8125 - val_loss: 1086309632.0000 - val_mae: 20624.8281\n",
            "Epoch 10/100\n",
            "\u001b[1m37/37\u001b[0m \u001b[32m━━━━━━━━━━━━━━━━━━━━\u001b[0m\u001b[37m\u001b[0m \u001b[1m0s\u001b[0m 4ms/step - loss: 2612445184.0000 - mae: 36937.9219 - val_loss: 1057667520.0000 - val_mae: 20188.6230\n",
            "Epoch 11/100\n",
            "\u001b[1m37/37\u001b[0m \u001b[32m━━━━━━━━━━━━━━━━━━━━\u001b[0m\u001b[37m\u001b[0m \u001b[1m0s\u001b[0m 4ms/step - loss: 2046048512.0000 - mae: 34021.7188 - val_loss: 937254912.0000 - val_mae: 19192.6973\n",
            "Epoch 12/100\n",
            "\u001b[1m37/37\u001b[0m \u001b[32m━━━━━━━━━━━━━━━━━━━━\u001b[0m\u001b[37m\u001b[0m \u001b[1m0s\u001b[0m 4ms/step - loss: 2528606720.0000 - mae: 36316.0586 - val_loss: 1155071104.0000 - val_mae: 21915.6250\n",
            "Epoch 13/100\n",
            "\u001b[1m37/37\u001b[0m \u001b[32m━━━━━━━━━━━━━━━━━━━━\u001b[0m\u001b[37m\u001b[0m \u001b[1m0s\u001b[0m 3ms/step - loss: 2458304768.0000 - mae: 35188.8594 - val_loss: 984419648.0000 - val_mae: 19496.8184\n",
            "Epoch 14/100\n",
            "\u001b[1m37/37\u001b[0m \u001b[32m━━━━━━━━━━━━━━━━━━━━\u001b[0m\u001b[37m\u001b[0m \u001b[1m0s\u001b[0m 4ms/step - loss: 1937326976.0000 - mae: 33177.2695 - val_loss: 1141295872.0000 - val_mae: 21562.0664\n",
            "Epoch 15/100\n",
            "\u001b[1m37/37\u001b[0m \u001b[32m━━━━━━━━━━━━━━━━━━━━\u001b[0m\u001b[37m\u001b[0m \u001b[1m0s\u001b[0m 4ms/step - loss: 2358162944.0000 - mae: 37258.2891 - val_loss: 999222144.0000 - val_mae: 19426.4004\n",
            "Epoch 16/100\n",
            "\u001b[1m37/37\u001b[0m \u001b[32m━━━━━━━━━━━━━━━━━━━━\u001b[0m\u001b[37m\u001b[0m \u001b[1m0s\u001b[0m 4ms/step - loss: 2408987904.0000 - mae: 35004.9141 - val_loss: 1045803520.0000 - val_mae: 19989.6309\n",
            "Epoch 17/100\n",
            "\u001b[1m37/37\u001b[0m \u001b[32m━━━━━━━━━━━━━━━━━━━━\u001b[0m\u001b[37m\u001b[0m \u001b[1m0s\u001b[0m 4ms/step - loss: 2490809088.0000 - mae: 36402.6758 - val_loss: 1024412544.0000 - val_mae: 19883.1875\n",
            "Epoch 18/100\n",
            "\u001b[1m37/37\u001b[0m \u001b[32m━━━━━━━━━━━━━━━━━━━━\u001b[0m\u001b[37m\u001b[0m \u001b[1m0s\u001b[0m 3ms/step - loss: 2110049152.0000 - mae: 33960.5625 - val_loss: 1110715904.0000 - val_mae: 20763.2910\n",
            "Epoch 19/100\n",
            "\u001b[1m37/37\u001b[0m \u001b[32m━━━━━━━━━━━━━━━━━━━━\u001b[0m\u001b[37m\u001b[0m \u001b[1m0s\u001b[0m 5ms/step - loss: 2157644800.0000 - mae: 35149.5938 - val_loss: 963237440.0000 - val_mae: 19476.0723\n",
            "Epoch 20/100\n",
            "\u001b[1m37/37\u001b[0m \u001b[32m━━━━━━━━━━━━━━━━━━━━\u001b[0m\u001b[37m\u001b[0m \u001b[1m0s\u001b[0m 3ms/step - loss: 2734561792.0000 - mae: 37032.8164 - val_loss: 1172517504.0000 - val_mae: 22279.5527\n",
            "Epoch 21/100\n",
            "\u001b[1m37/37\u001b[0m \u001b[32m━━━━━━━━━━━━━━━━━━━━\u001b[0m\u001b[37m\u001b[0m \u001b[1m0s\u001b[0m 3ms/step - loss: 2426594560.0000 - mae: 36960.2188 - val_loss: 1049928704.0000 - val_mae: 20274.7949\n",
            "Epoch 22/100\n",
            "\u001b[1m37/37\u001b[0m \u001b[32m━━━━━━━━━━━━━━━━━━━━\u001b[0m\u001b[37m\u001b[0m \u001b[1m0s\u001b[0m 3ms/step - loss: 2532971008.0000 - mae: 36769.4609 - val_loss: 1028462272.0000 - val_mae: 20104.9980\n",
            "Epoch 23/100\n",
            "\u001b[1m37/37\u001b[0m \u001b[32m━━━━━━━━━━━━━━━━━━━━\u001b[0m\u001b[37m\u001b[0m \u001b[1m0s\u001b[0m 3ms/step - loss: 2436651264.0000 - mae: 34976.6719 - val_loss: 1076258560.0000 - val_mae: 20961.0840\n",
            "Epoch 24/100\n",
            "\u001b[1m37/37\u001b[0m \u001b[32m━━━━━━━━━━━━━━━━━━━━\u001b[0m\u001b[37m\u001b[0m \u001b[1m0s\u001b[0m 3ms/step - loss: 2849220864.0000 - mae: 35827.8984 - val_loss: 951856640.0000 - val_mae: 19362.7637\n",
            "Epoch 25/100\n",
            "\u001b[1m37/37\u001b[0m \u001b[32m━━━━━━━━━━━━━━━━━━━━\u001b[0m\u001b[37m\u001b[0m \u001b[1m0s\u001b[0m 3ms/step - loss: 2292365312.0000 - mae: 34971.4336 - val_loss: 972259200.0000 - val_mae: 19646.7383\n",
            "Epoch 26/100\n",
            "\u001b[1m37/37\u001b[0m \u001b[32m━━━━━━━━━━━━━━━━━━━━\u001b[0m\u001b[37m\u001b[0m \u001b[1m0s\u001b[0m 3ms/step - loss: 2520283392.0000 - mae: 36850.4961 - val_loss: 1052990016.0000 - val_mae: 20583.8398\n",
            "Epoch 27/100\n",
            "\u001b[1m37/37\u001b[0m \u001b[32m━━━━━━━━━━━━━━━━━━━━\u001b[0m\u001b[37m\u001b[0m \u001b[1m0s\u001b[0m 4ms/step - loss: 2422065920.0000 - mae: 36558.7148 - val_loss: 990936640.0000 - val_mae: 19835.6699\n",
            "Epoch 28/100\n",
            "\u001b[1m37/37\u001b[0m \u001b[32m━━━━━━━━━━━━━━━━━━━━\u001b[0m\u001b[37m\u001b[0m \u001b[1m0s\u001b[0m 5ms/step - loss: 2176436480.0000 - mae: 33485.9688 - val_loss: 1070868352.0000 - val_mae: 20841.1875\n",
            "Epoch 29/100\n",
            "\u001b[1m37/37\u001b[0m \u001b[32m━━━━━━━━━━━━━━━━━━━━\u001b[0m\u001b[37m\u001b[0m \u001b[1m0s\u001b[0m 4ms/step - loss: 2506875648.0000 - mae: 34531.6602 - val_loss: 1006985664.0000 - val_mae: 20198.0625\n",
            "Epoch 30/100\n",
            "\u001b[1m37/37\u001b[0m \u001b[32m━━━━━━━━━━━━━━━━━━━━\u001b[0m\u001b[37m\u001b[0m \u001b[1m0s\u001b[0m 4ms/step - loss: 2386445312.0000 - mae: 34956.2891 - val_loss: 1029610944.0000 - val_mae: 20279.6465\n",
            "Epoch 31/100\n",
            "\u001b[1m37/37\u001b[0m \u001b[32m━━━━━━━━━━━━━━━━━━━━\u001b[0m\u001b[37m\u001b[0m \u001b[1m0s\u001b[0m 4ms/step - loss: 2289383936.0000 - mae: 35399.9062 - val_loss: 988345920.0000 - val_mae: 19764.3750\n",
            "Epoch 32/100\n",
            "\u001b[1m37/37\u001b[0m \u001b[32m━━━━━━━━━━━━━━━━━━━━\u001b[0m\u001b[37m\u001b[0m \u001b[1m0s\u001b[0m 5ms/step - loss: 2377281024.0000 - mae: 35541.3281 - val_loss: 1118348672.0000 - val_mae: 21488.3711\n",
            "Epoch 33/100\n",
            "\u001b[1m37/37\u001b[0m \u001b[32m━━━━━━━━━━━━━━━━━━━━\u001b[0m\u001b[37m\u001b[0m \u001b[1m0s\u001b[0m 3ms/step - loss: 2387640576.0000 - mae: 36724.9414 - val_loss: 956298816.0000 - val_mae: 19294.2285\n",
            "Epoch 34/100\n",
            "\u001b[1m37/37\u001b[0m \u001b[32m━━━━━━━━━━━━━━━━━━━━\u001b[0m\u001b[37m\u001b[0m \u001b[1m0s\u001b[0m 3ms/step - loss: 2667365632.0000 - mae: 38304.7266 - val_loss: 1010480192.0000 - val_mae: 19858.4375\n",
            "Epoch 35/100\n",
            "\u001b[1m37/37\u001b[0m \u001b[32m━━━━━━━━━━━━━━━━━━━━\u001b[0m\u001b[37m\u001b[0m \u001b[1m0s\u001b[0m 3ms/step - loss: 2333754368.0000 - mae: 35169.8867 - val_loss: 997109568.0000 - val_mae: 20061.9570\n",
            "Epoch 36/100\n",
            "\u001b[1m37/37\u001b[0m \u001b[32m━━━━━━━━━━━━━━━━━━━━\u001b[0m\u001b[37m\u001b[0m \u001b[1m0s\u001b[0m 3ms/step - loss: 2304637440.0000 - mae: 35470.4766 - val_loss: 1034590464.0000 - val_mae: 20727.8320\n",
            "Epoch 37/100\n",
            "\u001b[1m37/37\u001b[0m \u001b[32m━━━━━━━━━━━━━━━━━━━━\u001b[0m\u001b[37m\u001b[0m \u001b[1m0s\u001b[0m 5ms/step - loss: 2288800256.0000 - mae: 35872.9961 - val_loss: 958684736.0000 - val_mae: 19531.2773\n",
            "Epoch 38/100\n",
            "\u001b[1m37/37\u001b[0m \u001b[32m━━━━━━━━━━━━━━━━━━━━\u001b[0m\u001b[37m\u001b[0m \u001b[1m0s\u001b[0m 3ms/step - loss: 2508222720.0000 - mae: 35488.1875 - val_loss: 1076446080.0000 - val_mae: 21066.5781\n",
            "Epoch 39/100\n",
            "\u001b[1m37/37\u001b[0m \u001b[32m━━━━━━━━━━━━━━━━━━━━\u001b[0m\u001b[37m\u001b[0m \u001b[1m0s\u001b[0m 3ms/step - loss: 2625869312.0000 - mae: 36424.4609 - val_loss: 1068741888.0000 - val_mae: 21042.3047\n",
            "Epoch 40/100\n",
            "\u001b[1m37/37\u001b[0m \u001b[32m━━━━━━━━━━━━━━━━━━━━\u001b[0m\u001b[37m\u001b[0m \u001b[1m0s\u001b[0m 3ms/step - loss: 2306653696.0000 - mae: 35985.6445 - val_loss: 1025105472.0000 - val_mae: 19996.7871\n",
            "Epoch 41/100\n",
            "\u001b[1m37/37\u001b[0m \u001b[32m━━━━━━━━━━━━━━━━━━━━\u001b[0m\u001b[37m\u001b[0m \u001b[1m0s\u001b[0m 4ms/step - loss: 2256795904.0000 - mae: 34143.8242 - val_loss: 1020209216.0000 - val_mae: 20097.1445\n",
            "Epoch 42/100\n",
            "\u001b[1m37/37\u001b[0m \u001b[32m━━━━━━━━━━━━━━━━━━━━\u001b[0m\u001b[37m\u001b[0m \u001b[1m0s\u001b[0m 4ms/step - loss: 2098699776.0000 - mae: 34040.7109 - val_loss: 1067052224.0000 - val_mae: 20780.9824\n",
            "Epoch 43/100\n",
            "\u001b[1m37/37\u001b[0m \u001b[32m━━━━━━━━━━━━━━━━━━━━\u001b[0m\u001b[37m\u001b[0m \u001b[1m0s\u001b[0m 4ms/step - loss: 2577611520.0000 - mae: 36053.0547 - val_loss: 951687168.0000 - val_mae: 19531.0879\n",
            "Epoch 44/100\n",
            "\u001b[1m37/37\u001b[0m \u001b[32m━━━━━━━━━━━━━━━━━━━━\u001b[0m\u001b[37m\u001b[0m \u001b[1m0s\u001b[0m 3ms/step - loss: 2381233152.0000 - mae: 36100.4922 - val_loss: 967487552.0000 - val_mae: 19595.3926\n",
            "Epoch 45/100\n",
            "\u001b[1m37/37\u001b[0m \u001b[32m━━━━━━━━━━━━━━━━━━━━\u001b[0m\u001b[37m\u001b[0m \u001b[1m0s\u001b[0m 4ms/step - loss: 2375922432.0000 - mae: 35646.9023 - val_loss: 1029169152.0000 - val_mae: 20269.4102\n",
            "Epoch 46/100\n",
            "\u001b[1m37/37\u001b[0m \u001b[32m━━━━━━━━━━━━━━━━━━━━\u001b[0m\u001b[37m\u001b[0m \u001b[1m0s\u001b[0m 3ms/step - loss: 2225288192.0000 - mae: 33226.4102 - val_loss: 934179328.0000 - val_mae: 19304.7090\n",
            "Epoch 47/100\n",
            "\u001b[1m37/37\u001b[0m \u001b[32m━━━━━━━━━━━━━━━━━━━━\u001b[0m\u001b[37m\u001b[0m \u001b[1m0s\u001b[0m 6ms/step - loss: 2278265600.0000 - mae: 34994.7109 - val_loss: 1017138816.0000 - val_mae: 20269.8242\n",
            "Epoch 48/100\n",
            "\u001b[1m37/37\u001b[0m \u001b[32m━━━━━━━━━━━━━━━━━━━━\u001b[0m\u001b[37m\u001b[0m \u001b[1m0s\u001b[0m 5ms/step - loss: 2175035136.0000 - mae: 34279.7227 - val_loss: 959090752.0000 - val_mae: 19900.7090\n",
            "Epoch 49/100\n",
            "\u001b[1m37/37\u001b[0m \u001b[32m━━━━━━━━━━━━━━━━━━━━\u001b[0m\u001b[37m\u001b[0m \u001b[1m0s\u001b[0m 5ms/step - loss: 2394675200.0000 - mae: 35216.0039 - val_loss: 1080358400.0000 - val_mae: 20782.3398\n",
            "Epoch 50/100\n",
            "\u001b[1m37/37\u001b[0m \u001b[32m━━━━━━━━━━━━━━━━━━━━\u001b[0m\u001b[37m\u001b[0m \u001b[1m0s\u001b[0m 5ms/step - loss: 2455426816.0000 - mae: 36280.3672 - val_loss: 1094126208.0000 - val_mae: 21553.1934\n",
            "Epoch 51/100\n",
            "\u001b[1m37/37\u001b[0m \u001b[32m━━━━━━━━━━━━━━━━━━━━\u001b[0m\u001b[37m\u001b[0m \u001b[1m0s\u001b[0m 5ms/step - loss: 2256168960.0000 - mae: 35315.1133 - val_loss: 1000167680.0000 - val_mae: 20090.2090\n",
            "Epoch 52/100\n",
            "\u001b[1m37/37\u001b[0m \u001b[32m━━━━━━━━━━━━━━━━━━━━\u001b[0m\u001b[37m\u001b[0m \u001b[1m0s\u001b[0m 6ms/step - loss: 2552507392.0000 - mae: 36520.4766 - val_loss: 1154039424.0000 - val_mae: 22230.8164\n",
            "Epoch 53/100\n",
            "\u001b[1m37/37\u001b[0m \u001b[32m━━━━━━━━━━━━━━━━━━━━\u001b[0m\u001b[37m\u001b[0m \u001b[1m0s\u001b[0m 5ms/step - loss: 2509113088.0000 - mae: 36132.5195 - val_loss: 951822656.0000 - val_mae: 19624.4199\n",
            "Epoch 54/100\n",
            "\u001b[1m37/37\u001b[0m \u001b[32m━━━━━━━━━━━━━━━━━━━━\u001b[0m\u001b[37m\u001b[0m \u001b[1m0s\u001b[0m 6ms/step - loss: 2144944384.0000 - mae: 34665.7070 - val_loss: 1059909696.0000 - val_mae: 21322.0352\n",
            "Epoch 55/100\n",
            "\u001b[1m37/37\u001b[0m \u001b[32m━━━━━━━━━━━━━━━━━━━━\u001b[0m\u001b[37m\u001b[0m \u001b[1m0s\u001b[0m 5ms/step - loss: 2104920448.0000 - mae: 34203.4922 - val_loss: 1061408512.0000 - val_mae: 21141.1719\n",
            "Epoch 56/100\n",
            "\u001b[1m37/37\u001b[0m \u001b[32m━━━━━━━━━━━━━━━━━━━━\u001b[0m\u001b[37m\u001b[0m \u001b[1m0s\u001b[0m 5ms/step - loss: 2401884416.0000 - mae: 36548.0820 - val_loss: 1109832576.0000 - val_mae: 20775.4883\n",
            "Epoch 57/100\n",
            "\u001b[1m37/37\u001b[0m \u001b[32m━━━━━━━━━━━━━━━━━━━━\u001b[0m\u001b[37m\u001b[0m \u001b[1m0s\u001b[0m 7ms/step - loss: 2297334528.0000 - mae: 35622.3281 - val_loss: 972185344.0000 - val_mae: 19620.1504\n",
            "Epoch 58/100\n",
            "\u001b[1m37/37\u001b[0m \u001b[32m━━━━━━━━━━━━━━━━━━━━\u001b[0m\u001b[37m\u001b[0m \u001b[1m0s\u001b[0m 7ms/step - loss: 2300050432.0000 - mae: 34196.0938 - val_loss: 1003648704.0000 - val_mae: 19953.6621\n",
            "Epoch 59/100\n",
            "\u001b[1m37/37\u001b[0m \u001b[32m━━━━━━━━━━━━━━━━━━━━\u001b[0m\u001b[37m\u001b[0m \u001b[1m1s\u001b[0m 7ms/step - loss: 2447732224.0000 - mae: 37001.0508 - val_loss: 977598848.0000 - val_mae: 19763.8750\n",
            "Epoch 60/100\n",
            "\u001b[1m37/37\u001b[0m \u001b[32m━━━━━━━━━━━━━━━━━━━━\u001b[0m\u001b[37m\u001b[0m \u001b[1m0s\u001b[0m 3ms/step - loss: 2310763008.0000 - mae: 35717.9336 - val_loss: 979695296.0000 - val_mae: 19808.9922\n",
            "Epoch 61/100\n",
            "\u001b[1m37/37\u001b[0m \u001b[32m━━━━━━━━━━━━━━━━━━━━\u001b[0m\u001b[37m\u001b[0m \u001b[1m0s\u001b[0m 3ms/step - loss: 2707985152.0000 - mae: 37406.9883 - val_loss: 1003617856.0000 - val_mae: 20082.0352\n",
            "Epoch 62/100\n",
            "\u001b[1m37/37\u001b[0m \u001b[32m━━━━━━━━━━━━━━━━━━━━\u001b[0m\u001b[37m\u001b[0m \u001b[1m0s\u001b[0m 4ms/step - loss: 2997936384.0000 - mae: 38009.4336 - val_loss: 1081539840.0000 - val_mae: 20649.3574\n",
            "Epoch 63/100\n",
            "\u001b[1m37/37\u001b[0m \u001b[32m━━━━━━━━━━━━━━━━━━━━\u001b[0m\u001b[37m\u001b[0m \u001b[1m0s\u001b[0m 4ms/step - loss: 2149034496.0000 - mae: 34180.2344 - val_loss: 1009140288.0000 - val_mae: 19884.1543\n",
            "Epoch 64/100\n",
            "\u001b[1m37/37\u001b[0m \u001b[32m━━━━━━━━━━━━━━━━━━━━\u001b[0m\u001b[37m\u001b[0m \u001b[1m0s\u001b[0m 3ms/step - loss: 2158404864.0000 - mae: 34896.9180 - val_loss: 990087040.0000 - val_mae: 19809.4746\n",
            "Epoch 65/100\n",
            "\u001b[1m37/37\u001b[0m \u001b[32m━━━━━━━━━━━━━━━━━━━━\u001b[0m\u001b[37m\u001b[0m \u001b[1m0s\u001b[0m 4ms/step - loss: 2571461632.0000 - mae: 35208.7266 - val_loss: 1124275456.0000 - val_mae: 21624.7422\n",
            "Epoch 66/100\n",
            "\u001b[1m37/37\u001b[0m \u001b[32m━━━━━━━━━━━━━━━━━━━━\u001b[0m\u001b[37m\u001b[0m \u001b[1m0s\u001b[0m 4ms/step - loss: 2319841792.0000 - mae: 35917.3789 - val_loss: 1073376448.0000 - val_mae: 20811.1035\n",
            "Epoch 67/100\n",
            "\u001b[1m37/37\u001b[0m \u001b[32m━━━━━━━━━━━━━━━━━━━━\u001b[0m\u001b[37m\u001b[0m \u001b[1m0s\u001b[0m 3ms/step - loss: 2388347136.0000 - mae: 35638.3945 - val_loss: 1034578432.0000 - val_mae: 20228.8672\n",
            "Epoch 68/100\n",
            "\u001b[1m37/37\u001b[0m \u001b[32m━━━━━━━━━━━━━━━━━━━━\u001b[0m\u001b[37m\u001b[0m \u001b[1m0s\u001b[0m 4ms/step - loss: 1998637568.0000 - mae: 32876.5742 - val_loss: 961363200.0000 - val_mae: 19554.2031\n",
            "Epoch 69/100\n",
            "\u001b[1m37/37\u001b[0m \u001b[32m━━━━━━━━━━━━━━━━━━━━\u001b[0m\u001b[37m\u001b[0m \u001b[1m0s\u001b[0m 4ms/step - loss: 2374770176.0000 - mae: 35050.0820 - val_loss: 1083110400.0000 - val_mae: 21068.6523\n",
            "Epoch 70/100\n",
            "\u001b[1m37/37\u001b[0m \u001b[32m━━━━━━━━━━━━━━━━━━━━\u001b[0m\u001b[37m\u001b[0m \u001b[1m0s\u001b[0m 4ms/step - loss: 2058791552.0000 - mae: 34159.3672 - val_loss: 963737728.0000 - val_mae: 19607.7891\n",
            "Epoch 71/100\n",
            "\u001b[1m37/37\u001b[0m \u001b[32m━━━━━━━━━━━━━━━━━━━━\u001b[0m\u001b[37m\u001b[0m \u001b[1m0s\u001b[0m 4ms/step - loss: 2337960192.0000 - mae: 34141.1992 - val_loss: 961786496.0000 - val_mae: 19642.9902\n",
            "Epoch 72/100\n",
            "\u001b[1m37/37\u001b[0m \u001b[32m━━━━━━━━━━━━━━━━━━━━\u001b[0m\u001b[37m\u001b[0m \u001b[1m0s\u001b[0m 4ms/step - loss: 2214939648.0000 - mae: 34924.9805 - val_loss: 925641600.0000 - val_mae: 19299.1953\n",
            "Epoch 73/100\n",
            "\u001b[1m37/37\u001b[0m \u001b[32m━━━━━━━━━━━━━━━━━━━━\u001b[0m\u001b[37m\u001b[0m \u001b[1m0s\u001b[0m 4ms/step - loss: 2117127936.0000 - mae: 34180.8984 - val_loss: 1074657024.0000 - val_mae: 21476.6211\n",
            "Epoch 74/100\n",
            "\u001b[1m37/37\u001b[0m \u001b[32m━━━━━━━━━━━━━━━━━━━━\u001b[0m\u001b[37m\u001b[0m \u001b[1m0s\u001b[0m 4ms/step - loss: 2374826752.0000 - mae: 35226.9062 - val_loss: 980078400.0000 - val_mae: 19816.8926\n",
            "Epoch 75/100\n",
            "\u001b[1m37/37\u001b[0m \u001b[32m━━━━━━━━━━━━━━━━━━━━\u001b[0m\u001b[37m\u001b[0m \u001b[1m0s\u001b[0m 4ms/step - loss: 2081374720.0000 - mae: 34363.0898 - val_loss: 1030365312.0000 - val_mae: 20378.0527\n",
            "Epoch 76/100\n",
            "\u001b[1m37/37\u001b[0m \u001b[32m━━━━━━━━━━━━━━━━━━━━\u001b[0m\u001b[37m\u001b[0m \u001b[1m0s\u001b[0m 3ms/step - loss: 2380146176.0000 - mae: 35273.8203 - val_loss: 1002296128.0000 - val_mae: 20132.7500\n",
            "Epoch 77/100\n",
            "\u001b[1m37/37\u001b[0m \u001b[32m━━━━━━━━━━━━━━━━━━━━\u001b[0m\u001b[37m\u001b[0m \u001b[1m0s\u001b[0m 3ms/step - loss: 2784733184.0000 - mae: 38233.2930 - val_loss: 1078892800.0000 - val_mae: 20870.9629\n",
            "Epoch 78/100\n",
            "\u001b[1m37/37\u001b[0m \u001b[32m━━━━━━━━━━━━━━━━━━━━\u001b[0m\u001b[37m\u001b[0m \u001b[1m0s\u001b[0m 4ms/step - loss: 2326970112.0000 - mae: 34907.4648 - val_loss: 1040114816.0000 - val_mae: 20164.1309\n",
            "Epoch 79/100\n",
            "\u001b[1m37/37\u001b[0m \u001b[32m━━━━━━━━━━━━━━━━━━━━\u001b[0m\u001b[37m\u001b[0m \u001b[1m0s\u001b[0m 4ms/step - loss: 1985450368.0000 - mae: 34348.6094 - val_loss: 981834880.0000 - val_mae: 19666.2383\n",
            "Epoch 80/100\n",
            "\u001b[1m37/37\u001b[0m \u001b[32m━━━━━━━━━━━━━━━━━━━━\u001b[0m\u001b[37m\u001b[0m \u001b[1m0s\u001b[0m 4ms/step - loss: 2549700864.0000 - mae: 36294.6367 - val_loss: 1008666816.0000 - val_mae: 20130.6973\n",
            "Epoch 81/100\n",
            "\u001b[1m37/37\u001b[0m \u001b[32m━━━━━━━━━━━━━━━━━━━━\u001b[0m\u001b[37m\u001b[0m \u001b[1m0s\u001b[0m 3ms/step - loss: 2324152064.0000 - mae: 36610.5938 - val_loss: 1051336384.0000 - val_mae: 20455.6738\n",
            "Epoch 82/100\n",
            "\u001b[1m37/37\u001b[0m \u001b[32m━━━━━━━━━━━━━━━━━━━━\u001b[0m\u001b[37m\u001b[0m \u001b[1m0s\u001b[0m 4ms/step - loss: 2390874368.0000 - mae: 35615.8594 - val_loss: 1126227072.0000 - val_mae: 21522.7324\n",
            "Epoch 83/100\n",
            "\u001b[1m37/37\u001b[0m \u001b[32m━━━━━━━━━━━━━━━━━━━━\u001b[0m\u001b[37m\u001b[0m \u001b[1m0s\u001b[0m 3ms/step - loss: 2120765696.0000 - mae: 34701.1523 - val_loss: 1010895488.0000 - val_mae: 19919.5195\n",
            "Epoch 84/100\n",
            "\u001b[1m37/37\u001b[0m \u001b[32m━━━━━━━━━━━━━━━━━━━━\u001b[0m\u001b[37m\u001b[0m \u001b[1m0s\u001b[0m 4ms/step - loss: 2081992960.0000 - mae: 32966.2578 - val_loss: 1028594816.0000 - val_mae: 20078.8008\n",
            "Epoch 85/100\n",
            "\u001b[1m37/37\u001b[0m \u001b[32m━━━━━━━━━━━━━━━━━━━━\u001b[0m\u001b[37m\u001b[0m \u001b[1m0s\u001b[0m 5ms/step - loss: 2279297280.0000 - mae: 35107.5156 - val_loss: 1001311168.0000 - val_mae: 19947.4375\n",
            "Epoch 86/100\n",
            "\u001b[1m37/37\u001b[0m \u001b[32m━━━━━━━━━━━━━━━━━━━━\u001b[0m\u001b[37m\u001b[0m \u001b[1m0s\u001b[0m 3ms/step - loss: 2227160576.0000 - mae: 35050.5938 - val_loss: 1007863872.0000 - val_mae: 20061.5117\n",
            "Epoch 87/100\n",
            "\u001b[1m37/37\u001b[0m \u001b[32m━━━━━━━━━━━━━━━━━━━━\u001b[0m\u001b[37m\u001b[0m \u001b[1m0s\u001b[0m 4ms/step - loss: 2015185152.0000 - mae: 34103.6133 - val_loss: 1002059584.0000 - val_mae: 20193.9844\n",
            "Epoch 88/100\n",
            "\u001b[1m37/37\u001b[0m \u001b[32m━━━━━━━━━━━━━━━━━━━━\u001b[0m\u001b[37m\u001b[0m \u001b[1m0s\u001b[0m 4ms/step - loss: 2113819392.0000 - mae: 34727.8672 - val_loss: 1092543872.0000 - val_mae: 21555.6211\n",
            "Epoch 89/100\n",
            "\u001b[1m37/37\u001b[0m \u001b[32m━━━━━━━━━━━━━━━━━━━━\u001b[0m\u001b[37m\u001b[0m \u001b[1m0s\u001b[0m 3ms/step - loss: 2303480320.0000 - mae: 35360.9141 - val_loss: 932499520.0000 - val_mae: 19532.1934\n",
            "Epoch 90/100\n",
            "\u001b[1m37/37\u001b[0m \u001b[32m━━━━━━━━━━━━━━━━━━━━\u001b[0m\u001b[37m\u001b[0m \u001b[1m0s\u001b[0m 4ms/step - loss: 2354643968.0000 - mae: 34646.4648 - val_loss: 1039123776.0000 - val_mae: 20754.7266\n",
            "Epoch 91/100\n",
            "\u001b[1m37/37\u001b[0m \u001b[32m━━━━━━━━━━━━━━━━━━━━\u001b[0m\u001b[37m\u001b[0m \u001b[1m0s\u001b[0m 4ms/step - loss: 2477213696.0000 - mae: 34384.0859 - val_loss: 1008401216.0000 - val_mae: 20248.3066\n",
            "Epoch 92/100\n",
            "\u001b[1m37/37\u001b[0m \u001b[32m━━━━━━━━━━━━━━━━━━━━\u001b[0m\u001b[37m\u001b[0m \u001b[1m0s\u001b[0m 4ms/step - loss: 2094674176.0000 - mae: 33526.4375 - val_loss: 1056543232.0000 - val_mae: 20914.6602\n",
            "Epoch 93/100\n",
            "\u001b[1m37/37\u001b[0m \u001b[32m━━━━━━━━━━━━━━━━━━━━\u001b[0m\u001b[37m\u001b[0m \u001b[1m0s\u001b[0m 4ms/step - loss: 2584632832.0000 - mae: 36662.0352 - val_loss: 1033400960.0000 - val_mae: 20193.2148\n",
            "Epoch 94/100\n",
            "\u001b[1m37/37\u001b[0m \u001b[32m━━━━━━━━━━━━━━━━━━━━\u001b[0m\u001b[37m\u001b[0m \u001b[1m0s\u001b[0m 4ms/step - loss: 2432555776.0000 - mae: 34909.5625 - val_loss: 1059393280.0000 - val_mae: 20420.9316\n",
            "Epoch 95/100\n",
            "\u001b[1m37/37\u001b[0m \u001b[32m━━━━━━━━━━━━━━━━━━━━\u001b[0m\u001b[37m\u001b[0m \u001b[1m0s\u001b[0m 3ms/step - loss: 2286690048.0000 - mae: 36224.1758 - val_loss: 1102059776.0000 - val_mae: 20974.3496\n",
            "Epoch 96/100\n",
            "\u001b[1m37/37\u001b[0m \u001b[32m━━━━━━━━━━━━━━━━━━━━\u001b[0m\u001b[37m\u001b[0m \u001b[1m0s\u001b[0m 4ms/step - loss: 2618081536.0000 - mae: 36363.2617 - val_loss: 1044408192.0000 - val_mae: 20475.5645\n",
            "Epoch 97/100\n",
            "\u001b[1m37/37\u001b[0m \u001b[32m━━━━━━━━━━━━━━━━━━━━\u001b[0m\u001b[37m\u001b[0m \u001b[1m0s\u001b[0m 4ms/step - loss: 2623764224.0000 - mae: 36512.3164 - val_loss: 988998976.0000 - val_mae: 19962.2969\n",
            "Epoch 98/100\n",
            "\u001b[1m37/37\u001b[0m \u001b[32m━━━━━━━━━━━━━━━━━━━━\u001b[0m\u001b[37m\u001b[0m \u001b[1m0s\u001b[0m 4ms/step - loss: 1983763968.0000 - mae: 33389.2188 - val_loss: 1046883520.0000 - val_mae: 20651.2070\n",
            "Epoch 99/100\n",
            "\u001b[1m37/37\u001b[0m \u001b[32m━━━━━━━━━━━━━━━━━━━━\u001b[0m\u001b[37m\u001b[0m \u001b[1m0s\u001b[0m 3ms/step - loss: 1974848000.0000 - mae: 34473.6133 - val_loss: 1047112640.0000 - val_mae: 20721.0469\n",
            "Epoch 100/100\n",
            "\u001b[1m37/37\u001b[0m \u001b[32m━━━━━━━━━━━━━━━━━━━━\u001b[0m\u001b[37m\u001b[0m \u001b[1m0s\u001b[0m 4ms/step - loss: 2188789760.0000 - mae: 34736.3047 - val_loss: 1002711808.0000 - val_mae: 20291.8398\n"
          ]
        }
      ]
    },
    {
      "cell_type": "code",
      "source": [
        "import matplotlib.pyplot as plt\n",
        "\n",
        "# График потерь\n",
        "plt.plot(history.history['loss'], label='Train Loss')\n",
        "plt.plot(history.history['val_loss'], label='Validation Loss')\n",
        "plt.xlabel('Epochs')\n",
        "plt.ylabel('Loss')\n",
        "plt.legend()\n",
        "plt.show()"
      ],
      "metadata": {
        "colab": {
          "base_uri": "https://localhost:8080/",
          "height": 465
        },
        "id": "qUyzH8iwXF3L",
        "outputId": "5c850d54-1332-4338-8dde-5e79b5d6ef29"
      },
      "execution_count": 77,
      "outputs": [
        {
          "output_type": "display_data",
          "data": {
            "text/plain": [
              "<Figure size 640x480 with 1 Axes>"
            ],
            "image/png": "[encoded data removed]"
          },
          "metadata": {}
        }
      ]
    },
    {
      "cell_type": "code",
      "source": [
        "# Предсказания на тестовой выборке\n",
        "\n",
        "test_data = test_data.drop(columns=['Id'])\n",
        "predictions = model.predict(test_data)\n",
        "\n",
        "# Сохранение в файл\n",
        "submission = pd.DataFrame({\n",
        "    'Id': pd.read_csv('/content/drive/MyDrive/test.csv')['Id'],\n",
        "    'SalePrice': predictions.flatten()\n",
        "})\n",
        "submission.to_csv('submission.csv', index=False)\n"
      ],
      "metadata": {
        "colab": {
          "base_uri": "https://localhost:8080/"
        },
        "id": "ZV13kwfTScXQ",
        "outputId": "499155bb-f83f-4b46-990f-98c44f80f1f3"
      },
      "execution_count": 80,
      "outputs": [
        {
          "output_type": "stream",
          "name": "stdout",
          "text": [
            "\u001b[1m46/46\u001b[0m \u001b[32m━━━━━━━━━━━━━━━━━━━━\u001b[0m\u001b[37m\u001b[0m \u001b[1m0s\u001b[0m 6ms/step\n"
          ]
        }
      ]
    }
  ]
}